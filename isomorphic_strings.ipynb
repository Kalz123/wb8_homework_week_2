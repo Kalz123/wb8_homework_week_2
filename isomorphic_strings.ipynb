{
 "cells": [
  {
   "cell_type": "code",
   "execution_count": 1,
   "id": "4a71ffcd",
   "metadata": {},
   "outputs": [],
   "source": [
    "class Solution:\n",
    "    def isIsomorphic(self, s: str, t: str) -> bool:\n",
    "        #\"bbbaaaba\",       #false\n",
    "        #\"aaabbbba\"\n",
    "        \n",
    "        #\"egg\",            #True\n",
    "        #\"add\"\n",
    "        \n",
    "            \n",
    "        # return len(set(list(zip(s,t)))) == len(set(s))==len(set(t))\n",
    "    \n",
    "        return list(map(s.find, s)) == list(map(t.find, t))"
   ]
  },
  {
   "cell_type": "code",
   "execution_count": null,
   "id": "1354c9e4",
   "metadata": {},
   "outputs": [],
   "source": []
  }
 ],
 "metadata": {
  "kernelspec": {
   "display_name": "Python 3 (ipykernel)",
   "language": "python",
   "name": "python3"
  },
  "language_info": {
   "codemirror_mode": {
    "name": "ipython",
    "version": 3
   },
   "file_extension": ".py",
   "mimetype": "text/x-python",
   "name": "python",
   "nbconvert_exporter": "python",
   "pygments_lexer": "ipython3",
   "version": "3.8.10"
  }
 },
 "nbformat": 4,
 "nbformat_minor": 5
}
