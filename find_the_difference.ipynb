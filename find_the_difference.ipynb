{
 "cells": [
  {
   "cell_type": "code",
   "execution_count": 1,
   "id": "fc5dc064",
   "metadata": {},
   "outputs": [],
   "source": [
    "class Solution:\n",
    "    def findTheDifference(self, s: str, t: str) -> str:\n",
    "        # #Counter\n",
    "        # return list(Counter(t) - Counter(s))[0]\n",
    "    \n",
    "        #sort\n",
    "        s,t  = sorted(s), sorted(t)\n",
    "        \n",
    "        return t[-1] if s == t[:-1] else [y for x,y in zip(s,t) if x != y][0]\n",
    "        \n",
    "        #XOR  #similar characters return 0 \n",
    "        \n",
    "        ans = 0\n",
    "        for ch in (s+y):\n",
    "            ans ^= ord(char)\n",
    "            \n",
    "        return char(ans)  #we should convert the ans from ord form to char"
   ]
  },
  {
   "cell_type": "code",
   "execution_count": null,
   "id": "adbb0367",
   "metadata": {},
   "outputs": [],
   "source": []
  }
 ],
 "metadata": {
  "kernelspec": {
   "display_name": "Python 3 (ipykernel)",
   "language": "python",
   "name": "python3"
  },
  "language_info": {
   "codemirror_mode": {
    "name": "ipython",
    "version": 3
   },
   "file_extension": ".py",
   "mimetype": "text/x-python",
   "name": "python",
   "nbconvert_exporter": "python",
   "pygments_lexer": "ipython3",
   "version": "3.8.10"
  }
 },
 "nbformat": 4,
 "nbformat_minor": 5
}
