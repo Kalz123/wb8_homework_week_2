{
 "cells": [
  {
   "cell_type": "code",
   "execution_count": 1,
   "id": "04c8d71d",
   "metadata": {},
   "outputs": [
    {
     "ename": "NameError",
     "evalue": "name 'List' is not defined",
     "output_type": "error",
     "traceback": [
      "\u001b[0;31m---------------------------------------------------------------------------\u001b[0m",
      "\u001b[0;31mNameError\u001b[0m                                 Traceback (most recent call last)",
      "\u001b[0;32m/var/folders/b7/ctpvf5cx0b30q5b08pnd0y8r0000gn/T/ipykernel_41822/2470136813.py\u001b[0m in \u001b[0;36m<module>\u001b[0;34m\u001b[0m\n\u001b[0;32m----> 1\u001b[0;31m \u001b[0;32mclass\u001b[0m \u001b[0mSolution\u001b[0m\u001b[0;34m:\u001b[0m\u001b[0;34m\u001b[0m\u001b[0;34m\u001b[0m\u001b[0m\n\u001b[0m\u001b[1;32m      2\u001b[0m     \u001b[0;32mdef\u001b[0m \u001b[0muniqueMorseRepresentations\u001b[0m\u001b[0;34m(\u001b[0m\u001b[0mself\u001b[0m\u001b[0;34m,\u001b[0m \u001b[0mwords\u001b[0m\u001b[0;34m:\u001b[0m \u001b[0mList\u001b[0m\u001b[0;34m[\u001b[0m\u001b[0mstr\u001b[0m\u001b[0;34m]\u001b[0m\u001b[0;34m)\u001b[0m \u001b[0;34m->\u001b[0m \u001b[0mint\u001b[0m\u001b[0;34m:\u001b[0m\u001b[0;34m\u001b[0m\u001b[0;34m\u001b[0m\u001b[0m\n\u001b[1;32m      3\u001b[0m \u001b[0;34m\u001b[0m\u001b[0m\n\u001b[1;32m      4\u001b[0m         \u001b[0mmourse_codes\u001b[0m \u001b[0;34m=\u001b[0m \u001b[0;34m[\u001b[0m\u001b[0;34m\".-\"\u001b[0m\u001b[0;34m,\u001b[0m\u001b[0;34m\"-...\"\u001b[0m\u001b[0;34m,\u001b[0m\u001b[0;34m\"-.-.\"\u001b[0m\u001b[0;34m,\u001b[0m\u001b[0;34m\"-..\"\u001b[0m\u001b[0;34m,\u001b[0m\u001b[0;34m\".\"\u001b[0m\u001b[0;34m,\u001b[0m\u001b[0;34m\"..-.\"\u001b[0m\u001b[0;34m,\u001b[0m\u001b[0;34m\"--.\"\u001b[0m\u001b[0;34m,\u001b[0m\u001b[0;34m\"....\"\u001b[0m\u001b[0;34m,\u001b[0m\u001b[0;34m\"..\"\u001b[0m\u001b[0;34m,\u001b[0m\u001b[0;34m\".---\"\u001b[0m\u001b[0;34m,\u001b[0m\u001b[0;34m\"-.-\"\u001b[0m\u001b[0;34m,\u001b[0m\u001b[0;34m\".-..\"\u001b[0m\u001b[0;34m,\u001b[0m\u001b[0;34m\"--\"\u001b[0m\u001b[0;34m,\u001b[0m\u001b[0;34m\"-.\"\u001b[0m\u001b[0;34m,\u001b[0m\u001b[0;34m\"---\"\u001b[0m\u001b[0;34m,\u001b[0m\u001b[0;34m\".--.\"\u001b[0m\u001b[0;34m,\u001b[0m\u001b[0;34m\"--.-\"\u001b[0m\u001b[0;34m,\u001b[0m\u001b[0;34m\".-.\"\u001b[0m\u001b[0;34m,\u001b[0m\u001b[0;34m\"...\"\u001b[0m\u001b[0;34m,\u001b[0m\u001b[0;34m\"-\"\u001b[0m\u001b[0;34m,\u001b[0m\u001b[0;34m\"..-\"\u001b[0m\u001b[0;34m,\u001b[0m\u001b[0;34m\"...-\"\u001b[0m\u001b[0;34m,\u001b[0m\u001b[0;34m\".--\"\u001b[0m\u001b[0;34m,\u001b[0m\u001b[0;34m\"-..-\"\u001b[0m\u001b[0;34m,\u001b[0m\u001b[0;34m\"-.--\"\u001b[0m\u001b[0;34m,\u001b[0m\u001b[0;34m\"--..\"\u001b[0m\u001b[0;34m]\u001b[0m\u001b[0;34m\u001b[0m\u001b[0;34m\u001b[0m\u001b[0m\n\u001b[1;32m      5\u001b[0m \u001b[0;34m\u001b[0m\u001b[0m\n",
      "\u001b[0;32m/var/folders/b7/ctpvf5cx0b30q5b08pnd0y8r0000gn/T/ipykernel_41822/2470136813.py\u001b[0m in \u001b[0;36mSolution\u001b[0;34m()\u001b[0m\n\u001b[1;32m      1\u001b[0m \u001b[0;32mclass\u001b[0m \u001b[0mSolution\u001b[0m\u001b[0;34m:\u001b[0m\u001b[0;34m\u001b[0m\u001b[0;34m\u001b[0m\u001b[0m\n\u001b[0;32m----> 2\u001b[0;31m     \u001b[0;32mdef\u001b[0m \u001b[0muniqueMorseRepresentations\u001b[0m\u001b[0;34m(\u001b[0m\u001b[0mself\u001b[0m\u001b[0;34m,\u001b[0m \u001b[0mwords\u001b[0m\u001b[0;34m:\u001b[0m \u001b[0mList\u001b[0m\u001b[0;34m[\u001b[0m\u001b[0mstr\u001b[0m\u001b[0;34m]\u001b[0m\u001b[0;34m)\u001b[0m \u001b[0;34m->\u001b[0m \u001b[0mint\u001b[0m\u001b[0;34m:\u001b[0m\u001b[0;34m\u001b[0m\u001b[0;34m\u001b[0m\u001b[0m\n\u001b[0m\u001b[1;32m      3\u001b[0m \u001b[0;34m\u001b[0m\u001b[0m\n\u001b[1;32m      4\u001b[0m         \u001b[0mmourse_codes\u001b[0m \u001b[0;34m=\u001b[0m \u001b[0;34m[\u001b[0m\u001b[0;34m\".-\"\u001b[0m\u001b[0;34m,\u001b[0m\u001b[0;34m\"-...\"\u001b[0m\u001b[0;34m,\u001b[0m\u001b[0;34m\"-.-.\"\u001b[0m\u001b[0;34m,\u001b[0m\u001b[0;34m\"-..\"\u001b[0m\u001b[0;34m,\u001b[0m\u001b[0;34m\".\"\u001b[0m\u001b[0;34m,\u001b[0m\u001b[0;34m\"..-.\"\u001b[0m\u001b[0;34m,\u001b[0m\u001b[0;34m\"--.\"\u001b[0m\u001b[0;34m,\u001b[0m\u001b[0;34m\"....\"\u001b[0m\u001b[0;34m,\u001b[0m\u001b[0;34m\"..\"\u001b[0m\u001b[0;34m,\u001b[0m\u001b[0;34m\".---\"\u001b[0m\u001b[0;34m,\u001b[0m\u001b[0;34m\"-.-\"\u001b[0m\u001b[0;34m,\u001b[0m\u001b[0;34m\".-..\"\u001b[0m\u001b[0;34m,\u001b[0m\u001b[0;34m\"--\"\u001b[0m\u001b[0;34m,\u001b[0m\u001b[0;34m\"-.\"\u001b[0m\u001b[0;34m,\u001b[0m\u001b[0;34m\"---\"\u001b[0m\u001b[0;34m,\u001b[0m\u001b[0;34m\".--.\"\u001b[0m\u001b[0;34m,\u001b[0m\u001b[0;34m\"--.-\"\u001b[0m\u001b[0;34m,\u001b[0m\u001b[0;34m\".-.\"\u001b[0m\u001b[0;34m,\u001b[0m\u001b[0;34m\"...\"\u001b[0m\u001b[0;34m,\u001b[0m\u001b[0;34m\"-\"\u001b[0m\u001b[0;34m,\u001b[0m\u001b[0;34m\"..-\"\u001b[0m\u001b[0;34m,\u001b[0m\u001b[0;34m\"...-\"\u001b[0m\u001b[0;34m,\u001b[0m\u001b[0;34m\".--\"\u001b[0m\u001b[0;34m,\u001b[0m\u001b[0;34m\"-..-\"\u001b[0m\u001b[0;34m,\u001b[0m\u001b[0;34m\"-.--\"\u001b[0m\u001b[0;34m,\u001b[0m\u001b[0;34m\"--..\"\u001b[0m\u001b[0;34m]\u001b[0m\u001b[0;34m\u001b[0m\u001b[0;34m\u001b[0m\u001b[0m\n\u001b[1;32m      5\u001b[0m \u001b[0;34m\u001b[0m\u001b[0m\n",
      "\u001b[0;31mNameError\u001b[0m: name 'List' is not defined"
     ]
    }
   ],
   "source": [
    "class Solution:\n",
    "    def uniqueMorseRepresentations(self, words: List[str]) -> int:\n",
    "        \n",
    "        mourse_codes = [\".-\",\"-...\",\"-.-.\",\"-..\",\".\",\"..-.\",\"--.\",\"....\",\"..\",\".---\",\"-.-\",\".-..\",\"--\",\"-.\",\"---\",\".--.\",\"--.-\",\".-.\",\"...\",\"-\",\"..-\",\"...-\",\".--\",\"-..-\",\"-.--\",\"--..\"]\n",
    "        \n",
    "        alphabet = ['a','b','c','d','e','f','g','h','i','j','k','l','m','n','o','p','q','r','s','t','u','v','w','x','y','z']\n",
    "        \n",
    "        dct = {i:j for i,j in zip(alphabet, mourse_codes)}\n",
    "    \n",
    "#         words_morse = []\n",
    "#         for word in words:\n",
    "#             words_morse.append(''.join(list(map(dct.get, list(word)))))\n",
    "        \n",
    "#         return len(set(words_morse))\n",
    "\n",
    "        ans = []\n",
    "        for word in words:\n",
    "            k = ''.join(list(map(dct.get, word)))\n",
    "            \n",
    "            ans.append(k)\n",
    "        \n",
    "        return len(set(ans)) "
   ]
  },
  {
   "cell_type": "code",
   "execution_count": null,
   "id": "b1f12a77",
   "metadata": {},
   "outputs": [],
   "source": []
  }
 ],
 "metadata": {
  "kernelspec": {
   "display_name": "Python 3 (ipykernel)",
   "language": "python",
   "name": "python3"
  },
  "language_info": {
   "codemirror_mode": {
    "name": "ipython",
    "version": 3
   },
   "file_extension": ".py",
   "mimetype": "text/x-python",
   "name": "python",
   "nbconvert_exporter": "python",
   "pygments_lexer": "ipython3",
   "version": "3.8.10"
  }
 },
 "nbformat": 4,
 "nbformat_minor": 5
}
