{
 "cells": [
  {
   "cell_type": "code",
   "execution_count": 1,
   "id": "45a054d9",
   "metadata": {},
   "outputs": [],
   "source": [
    "class Solution:\n",
    "    def firstUniqChar(self, s: str) -> int:\n",
    "#         count = collections.Counter(s)\n",
    "        \n",
    "#         # find the index\n",
    "#         for idx, ch in enumerate(s):\n",
    "#             if count[ch] == 1:\n",
    "#                 return idx     \n",
    "#         return -1\n",
    "                \n",
    "        c = Counter(s)\n",
    "        if 1 not in c.values():\n",
    "            return -1\n",
    "        \n",
    "        uniq = []\n",
    "        for el in set(s):\n",
    "            if c[el] == 1:\n",
    "                uniq.append(s.index(el))\n",
    "        return min(uniq)"
   ]
  },
  {
   "cell_type": "code",
   "execution_count": null,
   "id": "e270b0c0",
   "metadata": {},
   "outputs": [],
   "source": []
  }
 ],
 "metadata": {
  "kernelspec": {
   "display_name": "Python 3 (ipykernel)",
   "language": "python",
   "name": "python3"
  },
  "language_info": {
   "codemirror_mode": {
    "name": "ipython",
    "version": 3
   },
   "file_extension": ".py",
   "mimetype": "text/x-python",
   "name": "python",
   "nbconvert_exporter": "python",
   "pygments_lexer": "ipython3",
   "version": "3.8.10"
  }
 },
 "nbformat": 4,
 "nbformat_minor": 5
}
