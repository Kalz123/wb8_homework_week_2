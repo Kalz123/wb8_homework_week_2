{
 "cells": [
  {
   "cell_type": "code",
   "execution_count": 1,
   "id": "8cb7f410",
   "metadata": {},
   "outputs": [],
   "source": [
    "class Solution:\n",
    "    def isHappy(self, n: int) -> bool:\n",
    "        #starting with any +ve int, replace number by the sum of squares of it digits\n",
    "        \n",
    "        \n",
    "        seen = set()\n",
    "        \n",
    "        while n != 1:\n",
    "            n = sum([int(i)**2 for i in str(n)])\n",
    "            \n",
    "            if n in seen:\n",
    "                return False\n",
    "            else:\n",
    "                seen.add(n)\n",
    "                  \n",
    "        return True\n",
    "            "
   ]
  },
  {
   "cell_type": "code",
   "execution_count": null,
   "id": "b68f909f",
   "metadata": {},
   "outputs": [],
   "source": []
  }
 ],
 "metadata": {
  "kernelspec": {
   "display_name": "Python 3 (ipykernel)",
   "language": "python",
   "name": "python3"
  },
  "language_info": {
   "codemirror_mode": {
    "name": "ipython",
    "version": 3
   },
   "file_extension": ".py",
   "mimetype": "text/x-python",
   "name": "python",
   "nbconvert_exporter": "python",
   "pygments_lexer": "ipython3",
   "version": "3.8.10"
  }
 },
 "nbformat": 4,
 "nbformat_minor": 5
}
