{
 "cells": [
  {
   "cell_type": "code",
   "execution_count": 1,
   "id": "01ac6b59",
   "metadata": {},
   "outputs": [],
   "source": [
    "class MyHashSet:\n",
    "\n",
    "    def __init__(self):\n",
    "        \"\"\"\n",
    "        Initialize your data structure here\n",
    "        \"\"\"\n",
    "        self.size = 10000\n",
    "        self.hset = [[] for _ in range(self.size)] \n",
    "\n",
    "    def add(self, key: int) -> None:\n",
    "\n",
    "        hfunc = key % self.size\n",
    "        if key not in self.hset[hfunc]:\n",
    "            self.hset[hfunc].append(key)\n",
    "                       \n",
    "\n",
    "    def remove(self, key: int) -> None:\n",
    "        hfunc = key % self.size\n",
    "        if key in self.hset[hfunc]:\n",
    "            self.hset[hfunc].pop(self.hset[hfunc].index(key))\n",
    "   \n",
    "\n",
    "    def contains(self, key: int) -> bool:\n",
    "        \"\"\"\n",
    "        Returns true if this set contains the specified element\n",
    "        \"\"\"\n",
    "        hfunc = key % self.size\n",
    "        if key in self.hset[hfunc]:\n",
    "            return True\n",
    "        return False\n",
    "\n",
    "\n",
    "# Your MyHashSet object will be instantiated and called as such:\n",
    "# obj = MyHashSet()\n",
    "# obj.add(key)\n",
    "# obj.remove(key)\n",
    "# param_3 = obj.contains(key)"
   ]
  },
  {
   "cell_type": "code",
   "execution_count": null,
   "id": "dfb68a53",
   "metadata": {},
   "outputs": [],
   "source": []
  }
 ],
 "metadata": {
  "kernelspec": {
   "display_name": "Python 3 (ipykernel)",
   "language": "python",
   "name": "python3"
  },
  "language_info": {
   "codemirror_mode": {
    "name": "ipython",
    "version": 3
   },
   "file_extension": ".py",
   "mimetype": "text/x-python",
   "name": "python",
   "nbconvert_exporter": "python",
   "pygments_lexer": "ipython3",
   "version": "3.8.10"
  }
 },
 "nbformat": 4,
 "nbformat_minor": 5
}
