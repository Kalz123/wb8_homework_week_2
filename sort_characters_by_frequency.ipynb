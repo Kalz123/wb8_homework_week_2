{
 "cells": [
  {
   "cell_type": "code",
   "execution_count": 1,
   "id": "c6fd10dd",
   "metadata": {},
   "outputs": [],
   "source": [
    "class Solution:\n",
    "    def frequencySort(self, s: str) -> str:\n",
    "#         res = Counter(list(s))\n",
    "#         res = sorted([(v, i) for i,v in res.items()], reverse = True)\n",
    "#         print(res)\n",
    "        \n",
    "#         ans = \"\"\n",
    "        \n",
    "#         for i,v in res:\n",
    "#             ans += (v*i)\n",
    "\n",
    "#         return ans\n",
    "        \n",
    "        res = Counter(s)\n",
    "        return \"\".join([(v*i) for i, v in res.most_common()])"
   ]
  },
  {
   "cell_type": "code",
   "execution_count": null,
   "id": "dc133c7a",
   "metadata": {},
   "outputs": [],
   "source": []
  }
 ],
 "metadata": {
  "kernelspec": {
   "display_name": "Python 3 (ipykernel)",
   "language": "python",
   "name": "python3"
  },
  "language_info": {
   "codemirror_mode": {
    "name": "ipython",
    "version": 3
   },
   "file_extension": ".py",
   "mimetype": "text/x-python",
   "name": "python",
   "nbconvert_exporter": "python",
   "pygments_lexer": "ipython3",
   "version": "3.8.10"
  }
 },
 "nbformat": 4,
 "nbformat_minor": 5
}
