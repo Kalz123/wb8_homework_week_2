{
 "cells": [
  {
   "cell_type": "code",
   "execution_count": 1,
   "id": "4d639ba5",
   "metadata": {},
   "outputs": [],
   "source": [
    "class Solution:\n",
    "    def wordPattern(self, pattern: str, s: str) -> bool:\n",
    "        # s = s.split(\" \")\n",
    "        # pattern = list(pattern)\n",
    "        \n",
    "        # return [s.index(i) for i in s] == [pattern.index(i) for i in pattern]\n",
    "        \n",
    "        s = s.split(\" \")\n",
    "        \n",
    "        return list(map(s.index, s)) == list(map(pattern.find, pattern))"
   ]
  },
  {
   "cell_type": "code",
   "execution_count": null,
   "id": "cee3715b",
   "metadata": {},
   "outputs": [],
   "source": []
  }
 ],
 "metadata": {
  "kernelspec": {
   "display_name": "Python 3 (ipykernel)",
   "language": "python",
   "name": "python3"
  },
  "language_info": {
   "codemirror_mode": {
    "name": "ipython",
    "version": 3
   },
   "file_extension": ".py",
   "mimetype": "text/x-python",
   "name": "python",
   "nbconvert_exporter": "python",
   "pygments_lexer": "ipython3",
   "version": "3.8.10"
  }
 },
 "nbformat": 4,
 "nbformat_minor": 5
}
